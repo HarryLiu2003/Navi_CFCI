{
 "cells": [
  {
   "cell_type": "code",
   "execution_count": 26,
   "id": "25c1a09b-1ca0-4b5d-a86d-5ab092960d36",
   "metadata": {
    "tags": []
   },
   "outputs": [
    {
     "name": "stdout",
     "output_type": "stream",
     "text": [
      "Requirement already satisfied: nltk in /Users/leon/anaconda3/lib/python3.11/site-packages (3.8.1)\n",
      "Requirement already satisfied: click in /Users/leon/anaconda3/lib/python3.11/site-packages (from nltk) (8.0.4)\n",
      "Requirement already satisfied: joblib in /Users/leon/anaconda3/lib/python3.11/site-packages (from nltk) (1.2.0)\n",
      "Requirement already satisfied: regex>=2021.8.3 in /Users/leon/anaconda3/lib/python3.11/site-packages (from nltk) (2022.7.9)\n",
      "Requirement already satisfied: tqdm in /Users/leon/anaconda3/lib/python3.11/site-packages (from nltk) (4.65.0)\n"
     ]
    },
    {
     "name": "stderr",
     "output_type": "stream",
     "text": [
      "[nltk_data] Downloading package punkt to /Users/leon/nltk_data...\n",
      "[nltk_data]   Package punkt is already up-to-date!\n"
     ]
    },
    {
     "name": "stdout",
     "output_type": "stream",
     "text": [
      "Requirement already satisfied: tiktoken in /Users/leon/anaconda3/lib/python3.11/site-packages (0.9.0)\n",
      "Requirement already satisfied: regex>=2022.1.18 in /Users/leon/anaconda3/lib/python3.11/site-packages (from tiktoken) (2022.7.9)\n",
      "Requirement already satisfied: requests>=2.26.0 in /Users/leon/anaconda3/lib/python3.11/site-packages (from tiktoken) (2.31.0)\n",
      "Requirement already satisfied: charset-normalizer<4,>=2 in /Users/leon/anaconda3/lib/python3.11/site-packages (from requests>=2.26.0->tiktoken) (2.0.4)\n",
      "Requirement already satisfied: idna<4,>=2.5 in /Users/leon/anaconda3/lib/python3.11/site-packages (from requests>=2.26.0->tiktoken) (3.4)\n",
      "Requirement already satisfied: urllib3<3,>=1.21.1 in /Users/leon/anaconda3/lib/python3.11/site-packages (from requests>=2.26.0->tiktoken) (1.26.16)\n",
      "Requirement already satisfied: certifi>=2017.4.17 in /Users/leon/anaconda3/lib/python3.11/site-packages (from requests>=2.26.0->tiktoken) (2024.12.14)\n",
      "Preprocessing complete. Output saved to processed_transcript.txt\n"
     ]
    }
   ],
   "source": [
    "!pip install nltk\n",
    "import nltk\n",
    "nltk.download('punkt')\n",
    "!pip install tiktoken\n",
    "import re\n",
    "import json\n",
    "import tiktoken\n",
    "from nltk.tokenize import sent_tokenize\n",
    "\n",
    "def read_vtt(file_path):\n",
    "    with open(file_path, 'r', encoding='utf-8') as file:\n",
    "        lines = file.readlines()\n",
    "    \n",
    "    text_lines = []\n",
    "    for line in lines:\n",
    "        if '-->' in line or line.strip().isdigit():\n",
    "            continue\n",
    "        line = line.strip()\n",
    "        if line and not line.startswith('WEBVTT'):\n",
    "            text_lines.append(line)\n",
    "    \n",
    "    return \" \".join(text_lines)\n",
    "\n",
    "def clean_transcript(text):\n",
    "    text = re.sub(r'\\d{2}:\\d{2}:\\d{2}\\.\\d{3} --> \\d{2}:\\d{2}:\\d{2}\\.\\d{3}', '', text)\n",
    "    text = re.sub(r'\\[.*?\\]', '', text)\n",
    "    text = re.sub(r'\\s+', ' ', text).strip() \n",
    "    \n",
    "    return text.lower()\n",
    "\n",
    "def chunk_text(text, max_tokens=512):\n",
    "    enc = tiktoken.encoding_for_model(\"gpt-4\")\n",
    "    sentences = sent_tokenize(text)\n",
    "    \n",
    "    chunks = []\n",
    "    current_chunk = []\n",
    "    current_length = 0\n",
    "    \n",
    "    for sentence in sentences:\n",
    "        token_length = len(enc.encode(sentence))\n",
    "        if current_length + token_length > max_tokens:\n",
    "            if current_chunk:  \n",
    "                chunks.append(\" \".join(current_chunk))\n",
    "            current_chunk = [sentence] \n",
    "            current_length = token_length\n",
    "        else:\n",
    "            current_chunk.append(sentence)\n",
    "            current_length += token_length\n",
    "    \n",
    "    if current_chunk:\n",
    "        chunks.append(\" \".join(current_chunk))\n",
    "    \n",
    "    return chunks\n",
    "\n",
    "def preprocess_vtt(file_path, output_json=False):\n",
    "    raw_text = read_vtt(file_path)\n",
    "    clean_text = clean_transcript(raw_text)\n",
    "    chunks = chunk_text(clean_text)\n",
    "    \n",
    "    if output_json:\n",
    "        output = {\"chunks\": chunks}\n",
    "        json_output = json.dumps(output, indent=4)\n",
    "        return json_output\n",
    "    else:\n",
    "        return \"\\n\\n\".join(chunks)\n",
    "\n",
    "if __name__ == \"__main__\":\n",
    "    file_path = \"Transcript.vtt\"\n",
    "    processed_text = preprocess_vtt(file_path, output_json=False)\n",
    "    \n",
    "    with open(\"processed_transcript.txt\", \"w\", encoding=\"utf-8\") as f:\n",
    "        f.write(processed_text)\n",
    "    \n",
    "    print(\"Preprocessing complete.\")"
   ]
  },
  {
   "cell_type": "code",
   "execution_count": null,
   "id": "bb43406a-0271-4b92-8c04-35e308141cc6",
   "metadata": {},
   "outputs": [],
   "source": []
  }
 ],
 "metadata": {
  "kernelspec": {
   "display_name": "Python 3 (ipykernel)",
   "language": "python",
   "name": "python3"
  },
  "language_info": {
   "codemirror_mode": {
    "name": "ipython",
    "version": 3
   },
   "file_extension": ".py",
   "mimetype": "text/x-python",
   "name": "python",
   "nbconvert_exporter": "python",
   "pygments_lexer": "ipython3",
   "version": "3.11.5"
  }
 },
 "nbformat": 4,
 "nbformat_minor": 5
}
